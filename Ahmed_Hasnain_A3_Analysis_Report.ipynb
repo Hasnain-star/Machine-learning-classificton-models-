{
 "cells": [
  {
   "cell_type": "markdown",
   "metadata": {},
   "source": [
    "<hr style=\"height:.9px;border:none;color:#333;background-color:#333;\" />\n",
    "<hr style=\"height:.9px;border:none;color:#333;background-color:#333;\" />\n",
    "\n",
    "<br><h2>  Assignment Analysis Report\n",
    "    <h4> By | Hasnain Ahmed</h4>\n",
    "\n",
    "\n",
    "Machine learning <br>\n",
    "\n",
    "<em><strong>Hult International Business School</strong></em><br>\n",
    "<br>\n",
    "\n",
    "\n",
    "Machine Learning<br><br><br>\n",
    "<hr style=\"height:1px;border:none;color:#333;background-color:#333;\" />\n",
    "<hr style=\"height:1px;border:none;color:#333;background-color:#333;\" />\n",
    "<br><br><br>\n",
    "\n"
   ]
  },
  {
   "cell_type": "markdown",
   "metadata": {},
   "source": [
    "# Case Overview\n",
    "\n",
    "\n",
    "Apprentice chef inc, is trying to gain further insight on their customers, We found the best variables with the highest p value in Both models, the regression model assessed the dependent revenue variable to find the perfect combination of explanatory variable which would give us the best OLS, lasso and ARD score, given that the data was split into testing and training data sets for better score collaboration and gap score distinction.\n",
    "\n",
    "Then we have the Classification model based on our dependent variable of Cross sell success to find the using OLS and lasso to find that best AUC score to build complimentary GBM trees and Random forests.\n",
    "\n",
    "\n",
    "\n",
    "\n",
    "    1)Insight for Regression Model-------------------------------------------------------------------------------\n",
    "    \n",
    "We understood that using revenue as the dependent to compute the regression was tough as it did not follow the same data structure of other variables and needed transformation which might reduce the accuracy or score of the test as original values are changed,with hyper parameter tuning make up for the inconsistencies in our data set.\n",
    "\n",
    "\n",
    "\n",
    "\n",
    "    2) insight Classification Model--------------------------------------------------------------------------------\n",
    "    \n",
    "\n",
    "We can also know the under fitting of our model from our high false positive rates meaning many variables  were left out as well as a very high AIC score which states our loss of data. Thus our classification model is bad and should not be considered.\n",
    "\n",
    "\n",
    "\n",
    "## Final Conclusion \n",
    "\n",
    "In regression we judged the predictive capabilities of our model with the very best adjusted R sqrt number which in our case was 0.792/79% accurate.Additionally we used the same feature engineering methods to create a new regression for the cross selling success variable to determine its best x values, creating a tuned tree model which gave us the AUC score of 0.635 rounded. Meaning that only 64% of our model is acceptable in classification or variables and is was because of under fitting of the model.   "
   ]
  },
  {
   "cell_type": "code",
   "execution_count": null,
   "metadata": {},
   "outputs": [],
   "source": [
    "                          OLS Regression Results Revenue model                           \n",
    "==============================================================================\n",
    "Dep. Variable:            log_Revenue   R-squared:                       0.792 \n",
    "Model:                            OLS   Adj. R-squared:                  0.790 # this is how we know our model is \n",
    "Method:                 Least Squares   F-statistic:                     318.2\n",
    "Date:                Sun, 24 Jan 2021   Prob (F-statistic):               0.00\n",
    "Time:                        01:15:07   Log-Likelihood:                 1787.5\n",
    "No. Observations:                1946   AIC:                            -3527.\n",
    "Df Residuals:                    1922   BIC:                            -3393.\n",
    "Df Model:                          23                                         \n",
    "Covariance Type:            nonrobust                                         \n",
    "===================================================================================================\n",
    "                                      coef    std err          t      P>|t|      [0.025      0.975]\n",
    "---------------------------------------------------------------------------------------------------\n",
    "CROSS_SELL_SUCCESS                 -0.0116      0.005     -2.328      0.020      -0.021      -0.002\n",
    "TOTAL_MEALS_ORDERED                -0.0010      0.000     -7.184      0.000      -0.001      -0.001\n",
    "UNIQUE_MEALS_PURCH                  0.0028      0.001      2.697      0.007       0.001       0.005\n",
    "AVG_TIME_PER_SITE_VISIT             0.0002   4.74e-05      3.290      0.001     6.3e-05       0.000\n",
    "AVG_PREP_VID_TIME                   0.0016    9.6e-05     16.851      0.000       0.001       0.002\n",
    "LARGEST_ORDER_SIZE                 -0.0333      0.006     -5.680      0.000      -0.045      -0.022\n",
    "MEDIAN_MEAL_RATING                  0.0566      0.006      9.173      0.000       0.045       0.069\n",
    "AVG_CLICKS_PER_VISIT                0.0431      0.010      4.235      0.000       0.023       0.063\n",
    "TOTAL_PHOTOS_VIEWED              4.668e-05   1.85e-05      2.528      0.012    1.05e-05    8.29e-05\n",
    "Outlier_AVG_TIME_PER_SITE_VISIT    -0.0299      0.015     -1.972      0.049      -0.060      -0.000\n",
    "Outlier_AVG_PREP_VID_TIME          -0.0790      0.028     -2.782      0.005      -0.135      -0.023\n",
    "Outlier_TOTAL_MEALS_ORDERED         0.0649      0.024      2.694      0.007       0.018       0.112\n",
    "Outlier_AVG_CLICKS_PER_VISIT       -0.0362      0.013     -2.740      0.006      -0.062      -0.010\n",
    "Zero_WEEKLY_PLAN                    0.0120      0.005      2.314      0.021       0.002       0.022\n",
    "Zero_TOTAL_PHOTOS_VIEWED           -0.0228      0.007     -3.494      0.000      -0.036      -0.010\n",
    "Zero_MASTER_CLASSES_ATTENDED       -0.0322      0.005     -6.161      0.000      -0.042      -0.022\n",
    "Single_Meals                        0.2553      0.009     27.714      0.000       0.237       0.273\n",
    "log_CONTACTS_W_CUSTOMER_SERVICE     0.1796      0.019      9.604      0.000       0.143       0.216\n",
    "log_Total_Meals_Ordered             0.4179      0.023     18.255      0.000       0.373       0.463\n",
    "log_LARGEST_ORDER_SIZE              0.1889      0.053      3.586      0.000       0.086       0.292\n",
    "log_AVG_CLICKS_PER_VISIT           -1.3319      0.290     -4.587      0.000      -1.901      -0.762\n",
    "junk                                2.9760      0.196     15.207      0.000       2.592       3.360\n",
    "personal                            2.9804      0.196     15.228      0.000       2.597       3.364\n",
    "professional                        2.9806      0.196     15.224      0.000       2.597       3.365\n",
    "==============================================================================\n",
    "Omnibus:                      570.329   Durbin-Watson:                   2.065\n",
    "Prob(Omnibus):                  0.000   Jarque-Bera (JB):             5827.214\n",
    "Skew:                          -1.075   Prob(JB):                         0.00\n",
    "Kurtosis:                      11.200   Cond. No.                     5.28e+04\n",
    "==============================================================================\n",
    "\n",
    "Notes:\n",
    "[1] Standard Errors assume that the covariance matrix of the errors is correctly specified.\n",
    "[2] The condition number is large, 5.28e+04. This might indicate that there are\n",
    "strong multicollinearity or other numerical problems."
   ]
  },
  {
   "cell_type": "code",
   "execution_count": 2,
   "metadata": {},
   "outputs": [
    {
     "ename": "SyntaxError",
     "evalue": "invalid syntax (<ipython-input-2-88fedcab7b99>, line 1)",
     "output_type": "error",
     "traceback": [
      "\u001b[1;36m  File \u001b[1;32m\"<ipython-input-2-88fedcab7b99>\"\u001b[1;36m, line \u001b[1;32m1\u001b[0m\n\u001b[1;33m    Revenue model final results\u001b[0m\n\u001b[1;37m            ^\u001b[0m\n\u001b[1;31mSyntaxError\u001b[0m\u001b[1;31m:\u001b[0m invalid syntax\n"
     ]
    }
   ],
   "source": [
    "                                    Revenue model final results \n",
    "#Overview of Scores and train test (incl. gap) resuslts\n",
    "\n",
    "# comparing results\n",
    "Model      Train Score        Test Score         Test Gap\n",
    "-----      -----------        ----------          ----------\n",
    "OLS        0.791              0.788                0.0029\n",
    "Lasso      0.682              0.690                0.0076\n",
    "ARD        0.750              0.736                0.0144\n",
    "\n",
    "Model Type                                                                                                        OLS\n",
    "Training                                                                                                       0.7916\n",
    "Testing                                                                                                        0.7887\n",
    "Train-Test Gap                                                                                                 0.0029\n",
    "Model Size                                                                                                         25\n",
    "Model             [(intercept, 3.02), (CROSS_SELL_SUCCESS, -0.02), (TOTAL_MEALS_ORDERED, -0.0), (UNIQUE_MEALS_PURC...\n",
    "Name: 0, dtype: object\n",
    "\n",
    "\n"
   ]
  },
  {
   "cell_type": "code",
   "execution_count": 3,
   "metadata": {},
   "outputs": [
    {
     "ename": "SyntaxError",
     "evalue": "invalid syntax (<ipython-input-3-9cd3f59efab3>, line 1)",
     "output_type": "error",
     "traceback": [
      "\u001b[1;36m  File \u001b[1;32m\"<ipython-input-3-9cd3f59efab3>\"\u001b[1;36m, line \u001b[1;32m1\u001b[0m\n\u001b[1;33m    OLS Regression Results classification model\u001b[0m\n\u001b[1;37m        ^\u001b[0m\n\u001b[1;31mSyntaxError\u001b[0m\u001b[1;31m:\u001b[0m invalid syntax\n"
     ]
    }
   ],
   "source": [
    "OLS Regression Results classification model                           \n",
    "=======================================================================================\n",
    "Dep. Variable:     CROSS_SELL_SUCCESS   R-squared (uncentered):                   0.728\n",
    "Model:                            OLS   Adj. R-squared (uncentered):              0.726\n",
    "Method:                 Least Squares   F-statistic:                              323.4\n",
    "Date:                Wed, 27 Jan 2021   Prob (F-statistic):                        0.00\n",
    "Time:                        02:15:10   Log-Likelihood:                         -1116.4\n",
    "No. Observations:                1946   AIC:                                      2265.\n",
    "Df Residuals:                    1930   BIC:                                      2354.\n",
    "Df Model:                          16                                                  \n",
    "Covariance Type:            nonrobust                                                  \n",
    "========================================================================================================\n",
    "                                           coef    std err          t      P>|t|      [0.025      0.975]\n",
    "--------------------------------------------------------------------------------------------------------\n",
    "TOTAL_MEALS_ORDERED                     -0.0018      0.000     -4.413      0.000      -0.003      -0.001\n",
    "CONTACTS_W_CUSTOMER_SERVICE              0.0135      0.006      2.257      0.024       0.002       0.025\n",
    "MOBILE_NUMBER                            0.1570      0.030      5.249      0.000       0.098       0.216\n",
    "CANCELLATIONS_BEFORE_NOON                0.0564      0.008      7.520      0.000       0.042       0.071\n",
    "CANCELLATIONS_AFTER_NOON                -0.0553      0.023     -2.438      0.015      -0.100      -0.011\n",
    "TASTES_AND_PREFERENCES                   0.0772      0.022      3.550      0.000       0.035       0.120\n",
    "MOBILE_LOGINS                           -0.0439      0.019     -2.261      0.024      -0.082      -0.006\n",
    "REFRIGERATED_LOCKER                      0.0846      0.031      2.732      0.006       0.024       0.145\n",
    "Outlier_CONTACTS_W_CUSTOMER_SERVICE     -0.2971      0.125     -2.368      0.018      -0.543      -0.051\n",
    "Outlier_CANCELLATIONS_BEFORE_NOON       -0.1618      0.078     -2.065      0.039      -0.316      -0.008\n",
    "Zero_MASTER_CLASSES_ATTENDED            -0.0475      0.022     -2.171      0.030      -0.090      -0.005\n",
    "log_Revenue                             -0.2193      0.061     -3.603      0.000      -0.339      -0.100\n",
    "log_Total_Meals_Ordered                  0.5346      0.116      4.600      0.000       0.307       0.762\n",
    "Total_Logins_per_Total_Meals_Ordered     0.3569      0.163      2.192      0.029       0.038       0.676\n",
    "personal                                 0.2759      0.026     10.469      0.000       0.224       0.328\n",
    "professional                             0.3780      0.027     13.848      0.000       0.324       0.431\n",
    "==============================================================================\n",
    "Omnibus:                      348.227   Durbin-Watson:                   0.301\n",
    "Prob(Omnibus):                  0.000   Jarque-Bera (JB):              207.175\n",
    "Skew:                          -0.670   Prob(JB):                     1.03e-45\n",
    "Kurtosis:                       2.129   Cond. No.                     1.80e+03\n",
    "==============================================================================\n",
    "\n",
    "Notes:\n",
    "[1] R² is computed without centering (uncentered) since the model does not contain a constant.\n",
    "[2] Standard Errors assume that the covariance matrix of the errors is correctly specified.\n",
    "[3] The condition number is large, 1.8e+03. This might indicate that there are\n",
    "strong multicollinearity or other numerical problems."
   ]
  },
  {
   "cell_type": "code",
   "execution_count": 4,
   "metadata": {},
   "outputs": [
    {
     "ename": "SyntaxError",
     "evalue": "invalid syntax (<ipython-input-4-0c6dc194a8a9>, line 1)",
     "output_type": "error",
     "traceback": [
      "\u001b[1;36m  File \u001b[1;32m\"<ipython-input-4-0c6dc194a8a9>\"\u001b[1;36m, line \u001b[1;32m1\u001b[0m\n\u001b[1;33m    Classification model tunning AUC score results\u001b[0m\n\u001b[1;37m                   ^\u001b[0m\n\u001b[1;31mSyntaxError\u001b[0m\u001b[1;31m:\u001b[0m invalid syntax\n"
     ]
    }
   ],
   "source": [
    "Classification model tunning AUC score results \n",
    "Tuned Parameters  : {'splitter': 'random', 'min_samples_leaf': 16, 'max_depth': 9, 'criterion': 'entropy'}\n",
    "Tuned Training AUC: 0.635"
   ]
  },
  {
   "cell_type": "code",
   "execution_count": null,
   "metadata": {},
   "outputs": [],
   "source": [
    "Final results classification model \n",
    "Model         AUC Score      TN, FP, FN, TP\n",
    "-----         ---------      --------------\n",
    "Logistic      0.639         (59, 97, 33, 298)\n",
    "Full Tree     0.586         (74, 82, 100, 231)\n",
    "Pruned Tree   0.611         (58, 98, 49, 282)\n",
    "\n"
   ]
  }
 ],
 "metadata": {
  "kernelspec": {
   "display_name": "Python 3",
   "language": "python",
   "name": "python3"
  },
  "language_info": {
   "codemirror_mode": {
    "name": "ipython",
    "version": 3
   },
   "file_extension": ".py",
   "mimetype": "text/x-python",
   "name": "python",
   "nbconvert_exporter": "python",
   "pygments_lexer": "ipython3",
   "version": "3.8.5"
  },
  "toc": {
   "base_numbering": 1,
   "nav_menu": {},
   "number_sections": true,
   "sideBar": true,
   "skip_h1_title": false,
   "title_cell": "Table of Contents",
   "title_sidebar": "Contents",
   "toc_cell": false,
   "toc_position": {},
   "toc_section_display": true,
   "toc_window_display": false
  },
  "varInspector": {
   "cols": {
    "lenName": 16,
    "lenType": 16,
    "lenVar": 40
   },
   "kernels_config": {
    "python": {
     "delete_cmd_postfix": "",
     "delete_cmd_prefix": "del ",
     "library": "var_list.py",
     "varRefreshCmd": "print(var_dic_list())"
    },
    "r": {
     "delete_cmd_postfix": ") ",
     "delete_cmd_prefix": "rm(",
     "library": "var_list.r",
     "varRefreshCmd": "cat(var_dic_list()) "
    }
   },
   "types_to_exclude": [
    "module",
    "function",
    "builtin_function_or_method",
    "instance",
    "_Feature"
   ],
   "window_display": false
  }
 },
 "nbformat": 4,
 "nbformat_minor": 4
}
